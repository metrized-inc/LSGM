{
 "cells": [
  {
   "cell_type": "code",
   "execution_count": 1,
   "metadata": {},
   "outputs": [],
   "source": [
    "import os\n",
    "import numpy as np\n",
    "import random\n",
    "import torch\n",
    "import cv2\n",
    "import pytorch_lightning as pl\n",
    "from torch.utils.data import Dataset, DataLoader\n",
    "import torchvision.transforms as T\n",
    "import PIL\n",
    "\n",
    "from util import utils, datasets"
   ]
  },
  {
   "cell_type": "code",
   "execution_count": null,
   "metadata": {},
   "outputs": [],
   "source": [
    "dataset = 'cifar10'\n",
    "data = 'cifar10'\n",
    "distributed = False\n",
    "batch_size = 8\n",
    "\n",
    "train_queue, valid_queue, _ = datasets.get_loaders_eval(dataset,  data, distributed, batch_size)"
   ]
  },
  {
   "cell_type": "code",
   "execution_count": 2,
   "metadata": {},
   "outputs": [
    {
     "name": "stderr",
     "output_type": "stream",
     "text": [
      "c:\\Anaconda\\envs\\pytorch\\lib\\site-packages\\torchvision\\transforms\\transforms.py:287: UserWarning: Argument interpolation should be of type InterpolationMode instead of int. Please, use InterpolationMode enum.\n",
      "  warnings.warn(\n"
     ]
    }
   ],
   "source": [
    "dataset = 'custom'\n",
    "data = r'E:\\Metrized-Data\\Sikorsky\\material_classifier\\sikorsky_only\\combined\\only_carbon\\split'\n",
    "distributed = False\n",
    "batch_size = 2\n",
    "\n",
    "train_queue, valid_queue, _ = datasets.get_loaders_eval(dataset,  data, distributed, batch_size)"
   ]
  },
  {
   "cell_type": "code",
   "execution_count": 3,
   "metadata": {},
   "outputs": [
    {
     "name": "stdout",
     "output_type": "stream",
     "text": [
      "[tensor([[[[0.1725, 0.1765, 0.1804,  ..., 0.4471, 0.3412, 0.2235],\n",
      "          [0.1686, 0.1686, 0.1725,  ..., 0.3961, 0.3098, 0.2196],\n",
      "          [0.1647, 0.1647, 0.1647,  ..., 0.3412, 0.2784, 0.2157],\n",
      "          ...,\n",
      "          [0.2196, 0.2471, 0.2745,  ..., 0.2314, 0.2392, 0.2431],\n",
      "          [0.2196, 0.2353, 0.2549,  ..., 0.2196, 0.2588, 0.3020],\n",
      "          [0.2157, 0.2275, 0.2392,  ..., 0.2118, 0.2863, 0.3608]],\n",
      "\n",
      "         [[0.1412, 0.1373, 0.1451,  ..., 0.3725, 0.3451, 0.2275],\n",
      "          [0.1373, 0.1373, 0.1412,  ..., 0.3765, 0.2902, 0.1804],\n",
      "          [0.1412, 0.1373, 0.1412,  ..., 0.3020, 0.2549, 0.1961],\n",
      "          ...,\n",
      "          [0.1882, 0.2275, 0.2314,  ..., 0.2000, 0.2196, 0.2392],\n",
      "          [0.1765, 0.2039, 0.2196,  ..., 0.1725, 0.2157, 0.2667],\n",
      "          [0.1725, 0.1882, 0.1961,  ..., 0.1843, 0.2235, 0.2941]],\n",
      "\n",
      "         [[0.1137, 0.1176, 0.1137,  ..., 0.3137, 0.3059, 0.2235],\n",
      "          [0.1137, 0.1137, 0.1137,  ..., 0.2941, 0.2471, 0.1843],\n",
      "          [0.1137, 0.1137, 0.1137,  ..., 0.2745, 0.2235, 0.1725],\n",
      "          ...,\n",
      "          [0.1608, 0.1804, 0.1843,  ..., 0.1490, 0.1647, 0.1922],\n",
      "          [0.1490, 0.1686, 0.1647,  ..., 0.1373, 0.1490, 0.2118],\n",
      "          [0.1451, 0.1608, 0.1569,  ..., 0.1373, 0.1608, 0.2275]]],\n",
      "\n",
      "\n",
      "        [[[0.2471, 0.2078, 0.1922,  ..., 0.2353, 0.2706, 0.3059],\n",
      "          [0.2745, 0.2392, 0.2157,  ..., 0.2392, 0.2627, 0.2941],\n",
      "          [0.2980, 0.2941, 0.2667,  ..., 0.2667, 0.2510, 0.2902],\n",
      "          ...,\n",
      "          [0.3137, 0.3176, 0.2980,  ..., 0.2784, 0.3020, 0.3098],\n",
      "          [0.3137, 0.3098, 0.2706,  ..., 0.3255, 0.3451, 0.3294],\n",
      "          [0.3059, 0.2980, 0.2706,  ..., 0.3373, 0.3490, 0.3216]],\n",
      "\n",
      "         [[0.2314, 0.1882, 0.1765,  ..., 0.1961, 0.2353, 0.2745],\n",
      "          [0.2667, 0.2471, 0.2078,  ..., 0.2078, 0.2157, 0.2588],\n",
      "          [0.2902, 0.2627, 0.2196,  ..., 0.2431, 0.2275, 0.2275],\n",
      "          ...,\n",
      "          [0.2784, 0.2784, 0.2549,  ..., 0.2588, 0.2824, 0.2941],\n",
      "          [0.2863, 0.2706, 0.2431,  ..., 0.2824, 0.3059, 0.3176],\n",
      "          [0.2824, 0.2667, 0.2510,  ..., 0.2941, 0.3137, 0.2980]],\n",
      "\n",
      "         [[0.2196, 0.1725, 0.1412,  ..., 0.1569, 0.1843, 0.2314],\n",
      "          [0.2235, 0.1961, 0.1804,  ..., 0.2000, 0.2039, 0.1922],\n",
      "          [0.2196, 0.2039, 0.1922,  ..., 0.2314, 0.2235, 0.1765],\n",
      "          ...,\n",
      "          [0.2431, 0.2353, 0.2196,  ..., 0.2196, 0.2353, 0.2510],\n",
      "          [0.2549, 0.2353, 0.2157,  ..., 0.2275, 0.2471, 0.2667],\n",
      "          [0.2549, 0.2275, 0.2118,  ..., 0.2353, 0.2471, 0.2510]]]]), tensor([0, 0])]\n"
     ]
    }
   ],
   "source": [
    "for batch in train_queue:\n",
    "    print(batch)\n",
    "    break"
   ]
  },
  {
   "cell_type": "code",
   "execution_count": 6,
   "metadata": {},
   "outputs": [
    {
     "data": {
      "text/plain": [
       "torch.Size([2, 3, 224, 224])"
      ]
     },
     "execution_count": 6,
     "metadata": {},
     "output_type": "execute_result"
    }
   ],
   "source": [
    "batch[0].shape"
   ]
  },
  {
   "cell_type": "code",
   "execution_count": null,
   "metadata": {},
   "outputs": [],
   "source": [
    "path = r'E:\\Metrized-Data\\Sikorsky\\material_classifier\\sikorsky_only\\combined\\CARBON'\n",
    "names = os.listdir(path)\n",
    "\n",
    "img_paths = [os.path.join(path, name) for name in names]\n",
    "# for name in names:\n",
    "#     img_paths.append(os.path.join(path, name))"
   ]
  },
  {
   "cell_type": "code",
   "execution_count": null,
   "metadata": {},
   "outputs": [],
   "source": [
    "len(img_paths)"
   ]
  },
  {
   "cell_type": "code",
   "execution_count": null,
   "metadata": {},
   "outputs": [],
   "source": [
    "import splitfolders\n",
    "\n",
    "input = r'E:\\Metrized-Data\\Sikorsky\\material_classifier\\sikorsky_only\\combined\\only_carbon'\n",
    "output = r'E:\\Metrized-Data\\Sikorsky\\material_classifier\\sikorsky_only\\combined\\only_carbon\\split'\n",
    "splitfolders.ratio(input, output=output, seed=1337, ratio=(.8, 0.1, 0.1)) "
   ]
  },
  {
   "cell_type": "code",
   "execution_count": null,
   "metadata": {},
   "outputs": [],
   "source": []
  },
  {
   "cell_type": "code",
   "execution_count": null,
   "metadata": {},
   "outputs": [],
   "source": []
  },
  {
   "cell_type": "code",
   "execution_count": 9,
   "metadata": {},
   "outputs": [],
   "source": [
    "folder = r'E:\\Metrized-Data\\Sikorsky\\material_classifier\\sikorsky_only\\combined\\only_carbon\\split_temp\\val'\n",
    "files = os.listdir(folder)\n",
    "for file in random.sample(files, 967):\n",
    "    os.remove(os.path.join(folder,file))"
   ]
  },
  {
   "cell_type": "code",
   "execution_count": null,
   "metadata": {},
   "outputs": [],
   "source": []
  }
 ],
 "metadata": {
  "kernelspec": {
   "display_name": "Python 3.8.13 ('pytorch')",
   "language": "python",
   "name": "python3"
  },
  "language_info": {
   "codemirror_mode": {
    "name": "ipython",
    "version": 3
   },
   "file_extension": ".py",
   "mimetype": "text/x-python",
   "name": "python",
   "nbconvert_exporter": "python",
   "pygments_lexer": "ipython3",
   "version": "3.8.13"
  },
  "orig_nbformat": 4,
  "vscode": {
   "interpreter": {
    "hash": "739f515fbc693b0ef5b930780eef1a1b1825770e415178b662f8085df40d8af9"
   }
  }
 },
 "nbformat": 4,
 "nbformat_minor": 2
}
